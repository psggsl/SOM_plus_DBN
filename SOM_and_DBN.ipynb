{
 "cells": [
  {
   "cell_type": "code",
   "execution_count": 96,
   "metadata": {},
   "outputs": [],
   "source": [
    "from scipy.io import arff\n",
    "import pandas as pd\n",
    "import numpy as np # linear algebra"
   ]
  },
  {
   "cell_type": "code",
   "execution_count": 50,
   "metadata": {},
   "outputs": [
    {
     "name": "stdout",
     "output_type": "stream",
     "text": [
      "           AF3       F7       F3      FC5       T7       P7       O1       O2  \\\n",
      "0      4329.23  4009.23  4289.23  4148.21  4350.26  4586.15  4096.92  4641.03   \n",
      "1      4324.62  4004.62  4293.85  4148.72  4342.05  4586.67  4097.44  4638.97   \n",
      "2      4327.69  4006.67  4295.38  4156.41  4336.92  4583.59  4096.92  4630.26   \n",
      "3      4328.72  4011.79  4296.41  4155.90  4343.59  4582.56  4097.44  4630.77   \n",
      "4      4326.15  4011.79  4292.31  4151.28  4347.69  4586.67  4095.90  4627.69   \n",
      "...        ...      ...      ...      ...      ...      ...      ...      ...   \n",
      "14975  4281.03  3990.26  4245.64  4116.92  4333.85  4614.36  4074.87  4625.64   \n",
      "14976  4276.92  3991.79  4245.13  4110.77  4332.82  4615.38  4073.33  4621.54   \n",
      "14977  4277.44  3990.77  4246.67  4113.85  4333.33  4615.38  4072.82  4623.59   \n",
      "14978  4284.62  3991.79  4251.28  4122.05  4334.36  4616.41  4080.51  4628.72   \n",
      "14979  4287.69  3997.44  4260.00  4121.03  4333.33  4616.41  4088.72  4638.46   \n",
      "\n",
      "            P8       T8      FC6       F4       F8      AF4 eyeDetection  \n",
      "0      4222.05  4238.46  4211.28  4280.51  4635.90  4393.85         b'0'  \n",
      "1      4210.77  4226.67  4207.69  4279.49  4632.82  4384.10         b'0'  \n",
      "2      4207.69  4222.05  4206.67  4282.05  4628.72  4389.23         b'0'  \n",
      "3      4217.44  4235.38  4210.77  4287.69  4632.31  4396.41         b'0'  \n",
      "4      4210.77  4244.10  4212.82  4288.21  4632.82  4398.46         b'0'  \n",
      "...        ...      ...      ...      ...      ...      ...          ...  \n",
      "14975  4203.08  4221.54  4171.28  4269.23  4593.33  4340.51         b'1'  \n",
      "14976  4194.36  4217.44  4162.56  4259.49  4590.26  4333.33         b'1'  \n",
      "14977  4193.33  4212.82  4160.51  4257.95  4591.79  4339.49         b'1'  \n",
      "14978  4200.00  4220.00  4165.64  4267.18  4596.41  4350.77         b'1'  \n",
      "14979  4212.31  4226.67  4167.69  4274.36  4597.95  4350.77         b'1'  \n",
      "\n",
      "[14980 rows x 15 columns]\n"
     ]
    }
   ],
   "source": [
    "data = arff.loadarff(r\"EEG Eye State.arff\")\n",
    "df = pd.DataFrame(data[0])\n",
    "print(df)"
   ]
  },
  {
   "cell_type": "code",
   "execution_count": 51,
   "metadata": {},
   "outputs": [],
   "source": [
    "name = df.columns\n",
    "name.delete(len(name)-1)\n",
    "df_norm = df"
   ]
  },
  {
   "cell_type": "code",
   "execution_count": 33,
   "metadata": {},
   "outputs": [
    {
     "data": {
      "text/plain": [
       "array([4329.23, 4324.62, 4327.69, ..., 4277.44, 4284.62, 4287.69])"
      ]
     },
     "execution_count": 33,
     "metadata": {},
     "output_type": "execute_result"
    }
   ],
   "source": [
    "np.array(df[name[0]])"
   ]
  },
  {
   "cell_type": "markdown",
   "metadata": {},
   "source": [
    "## Cleaning"
   ]
  },
  {
   "cell_type": "code",
   "execution_count": 5,
   "metadata": {},
   "outputs": [],
   "source": [
    "index_del = [899, 10387, 11510, 13180]"
   ]
  },
  {
   "cell_type": "code",
   "execution_count": 24,
   "metadata": {},
   "outputs": [],
   "source": [
    "df_open_eye = df[df.eyeDetection==b'0']\n",
    "df_close_eye = df[df.eyeDetection==b'1']"
   ]
  },
  {
   "cell_type": "markdown",
   "metadata": {},
   "source": [
    "## Normalization \n",
    "(All data - mean)/standart deviation "
   ]
  },
  {
   "cell_type": "code",
   "execution_count": 10,
   "metadata": {},
   "outputs": [],
   "source": [
    "from sklearn import preprocessing"
   ]
  },
  {
   "cell_type": "code",
   "execution_count": 75,
   "metadata": {},
   "outputs": [
    {
     "name": "stdout",
     "output_type": "stream",
     "text": [
      "[[4329.23 4009.23 4289.23 ... 4280.51 4635.9  4393.85]\n",
      " [4324.62 4004.62 4293.85 ... 4279.49 4632.82 4384.1 ]\n",
      " [4327.69 4006.67 4295.38 ... 4282.05 4628.72 4389.23]\n",
      " ...\n",
      " [4277.44 3990.77 4246.67 ... 4257.95 4591.79 4339.49]\n",
      " [4284.62 3991.79 4251.28 ... 4267.18 4596.41 4350.77]\n",
      " [4287.69 3997.44 4260.   ... 4274.36 4597.95 4350.77]]\n"
     ]
    },
    {
     "data": {
      "text/plain": [
       "(14980, 14)"
      ]
     },
     "execution_count": 75,
     "metadata": {},
     "output_type": "execute_result"
    }
   ],
   "source": [
    "x_array = np.array(df.iloc[:,:14])\n",
    "print(x_array)\n",
    "x_array.shape"
   ]
  },
  {
   "cell_type": "code",
   "execution_count": 73,
   "metadata": {},
   "outputs": [
    {
     "name": "stdout",
     "output_type": "stream",
     "text": [
      "[[0.26779408 0.24799977 0.26531979 ... 0.26478039 0.28676382 0.27179129]\n",
      " [0.26774589 0.24793405 0.26584085 ... 0.2649518  0.28682717 0.27142841]\n",
      " [0.26797826 0.24810013 0.26597757 ... 0.26515215 0.28661857 0.27178893]\n",
      " ...\n",
      " [0.26634659 0.2484963  0.26443061 ... 0.26513299 0.28592046 0.27021031]\n",
      " [0.26644095 0.24823119 0.26436768 ... 0.26535643 0.28582974 0.27055451]\n",
      " [0.26635486 0.24832429 0.26463473 ... 0.26552679 0.28562847 0.27027344]]\n"
     ]
    }
   ],
   "source": [
    "normalized_arr = preprocessing.normalize(x_array)\n",
    "print(normalized_arr)"
   ]
  },
  {
   "cell_type": "code",
   "execution_count": null,
   "metadata": {},
   "outputs": [],
   "source": [
    "for i,n in enumerate(name):\n",
    "   x = np.array(df[n])\n",
    "   data_matrix1[i,:] = preprocessing.normalize(x)"
   ]
  },
  {
   "cell_type": "code",
   "execution_count": 92,
   "metadata": {},
   "outputs": [
    {
     "data": {
      "text/plain": [
       "array([[0.00293429, 0.01170422, 0.56739848, ..., 0.03074472, 0.01712667,\n",
       "        0.0038339 ],\n",
       "       [0.00108436, 0.1120522 , 0.6713903 , ..., 0.0061918 , 0.0145777 ,\n",
       "        0.00548894],\n",
       "       [0.00231631, 0.06742891, 0.70582915, ..., 0.06781481, 0.01118458,\n",
       "        0.00461813],\n",
       "       ...,\n",
       "       [0.0178483 , 0.41353148, 0.39058683, ..., 0.51230804, 0.01937827,\n",
       "        0.01306139],\n",
       "       [0.01496707, 0.39132867, 0.28682009, ..., 0.29012821, 0.01555481,\n",
       "        0.01114664],\n",
       "       [0.01373512, 0.26834254, 0.09054115, ..., 0.11729493, 0.01428032,\n",
       "        0.01114664]])"
      ]
     },
     "execution_count": 92,
     "metadata": {},
     "output_type": "execute_result"
    }
   ],
   "source": [
    "data_matrix"
   ]
  },
  {
   "cell_type": "code",
   "execution_count": 167,
   "metadata": {},
   "outputs": [
    {
     "ename": "TypeError",
     "evalue": "ufunc 'true_divide' not supported for the input types, and the inputs could not be safely coerced to any supported types according to the casting rule ''safe''",
     "output_type": "error",
     "traceback": [
      "\u001b[1;31m---------------------------------------------------------------------------\u001b[0m",
      "\u001b[1;31mTypeError\u001b[0m                                 Traceback (most recent call last)",
      "\u001b[1;32mc:\\Users\\Pavel\\YandexDisk\\3 семестр\\ML\\programm\\SOM_and_DBN.ipynb Cell 14\u001b[0m in \u001b[0;36m<cell line: 2>\u001b[1;34m()\u001b[0m\n\u001b[0;32m      <a href='vscode-notebook-cell:/c%3A/Users/Pavel/YandexDisk/3%20%D1%81%D0%B5%D0%BC%D0%B5%D1%81%D1%82%D1%80/ML/programm/SOM_and_DBN.ipynb#X42sZmlsZQ%3D%3D?line=1'>2</a>\u001b[0m \u001b[39mfor\u001b[39;00m i,n \u001b[39min\u001b[39;00m \u001b[39menumerate\u001b[39m(name):\n\u001b[0;32m      <a href='vscode-notebook-cell:/c%3A/Users/Pavel/YandexDisk/3%20%D1%81%D0%B5%D0%BC%D0%B5%D1%81%D1%82%D1%80/ML/programm/SOM_and_DBN.ipynb#X42sZmlsZQ%3D%3D?line=2'>3</a>\u001b[0m    x \u001b[39m=\u001b[39m np\u001b[39m.\u001b[39marray(df[n])\n\u001b[1;32m----> <a href='vscode-notebook-cell:/c%3A/Users/Pavel/YandexDisk/3%20%D1%81%D0%B5%D0%BC%D0%B5%D1%81%D1%82%D1%80/ML/programm/SOM_and_DBN.ipynb#X42sZmlsZQ%3D%3D?line=3'>4</a>\u001b[0m    data_matrix[:,i] \u001b[39m=\u001b[39m \u001b[39mabs\u001b[39m(x \u001b[39m-\u001b[39m np\u001b[39m.\u001b[39;49mmean(x))\u001b[39m/\u001b[39mnp\u001b[39m.\u001b[39mstd(x)\n",
      "File \u001b[1;32m<__array_function__ internals>:5\u001b[0m, in \u001b[0;36mmean\u001b[1;34m(*args, **kwargs)\u001b[0m\n",
      "File \u001b[1;32mc:\\Users\\Pavel\\miniconda3\\lib\\site-packages\\numpy\\core\\fromnumeric.py:3440\u001b[0m, in \u001b[0;36mmean\u001b[1;34m(a, axis, dtype, out, keepdims, where)\u001b[0m\n\u001b[0;32m   3437\u001b[0m     \u001b[39melse\u001b[39;00m:\n\u001b[0;32m   3438\u001b[0m         \u001b[39mreturn\u001b[39;00m mean(axis\u001b[39m=\u001b[39maxis, dtype\u001b[39m=\u001b[39mdtype, out\u001b[39m=\u001b[39mout, \u001b[39m*\u001b[39m\u001b[39m*\u001b[39mkwargs)\n\u001b[1;32m-> 3440\u001b[0m \u001b[39mreturn\u001b[39;00m _methods\u001b[39m.\u001b[39m_mean(a, axis\u001b[39m=\u001b[39maxis, dtype\u001b[39m=\u001b[39mdtype,\n\u001b[0;32m   3441\u001b[0m                       out\u001b[39m=\u001b[39mout, \u001b[39m*\u001b[39m\u001b[39m*\u001b[39mkwargs)\n",
      "File \u001b[1;32mc:\\Users\\Pavel\\miniconda3\\lib\\site-packages\\numpy\\core\\_methods.py:191\u001b[0m, in \u001b[0;36m_mean\u001b[1;34m(a, axis, dtype, out, keepdims, where)\u001b[0m\n\u001b[0;32m    189\u001b[0m         ret \u001b[39m=\u001b[39m ret\u001b[39m.\u001b[39mdtype\u001b[39m.\u001b[39mtype(ret \u001b[39m/\u001b[39m rcount)\n\u001b[0;32m    190\u001b[0m \u001b[39melse\u001b[39;00m:\n\u001b[1;32m--> 191\u001b[0m     ret \u001b[39m=\u001b[39m ret \u001b[39m/\u001b[39;49m rcount\n\u001b[0;32m    193\u001b[0m \u001b[39mreturn\u001b[39;00m ret\n",
      "\u001b[1;31mTypeError\u001b[0m: ufunc 'true_divide' not supported for the input types, and the inputs could not be safely coerced to any supported types according to the casting rule ''safe''"
     ]
    }
   ],
   "source": [
    "data_matrix = np.zeros((len(df),(len(name)-1)))\n",
    "for i,n in enumerate(name):\n",
    "   x = np.array(df[n])\n",
    "   data_matrix[:,i] = abs(x - np.mean(x))/np.std(x)"
   ]
  },
  {
   "cell_type": "code",
   "execution_count": 40,
   "metadata": {},
   "outputs": [],
   "source": [
    "x = np.array(df[name[0]])\n",
    "y = (x - np.mean(x))/np.std(x)"
   ]
  },
  {
   "cell_type": "code",
   "execution_count": 87,
   "metadata": {},
   "outputs": [],
   "source": [
    "data_matrix1 = np.zeros((len(name)-1,len(df)))"
   ]
  },
  {
   "cell_type": "markdown",
   "metadata": {},
   "source": [
    "#### Метод главных компонент (англ. principal component analysis, PCA) — один из основных способов уменьшить размерность данных, потеряв наименьшее количество информации. \n",
    "Вычисление главных компонент может быть сведено к вычислению сингулярного разложения матрицы данных[⇨] или к вычислению собственных векторов и собственных значений ковариационной матрицы исходных данных"
   ]
  },
  {
   "cell_type": "code",
   "execution_count": 9,
   "metadata": {},
   "outputs": [],
   "source": [
    "import numpy as np\n",
    "from sklearn.decomposition import PCA"
   ]
  },
  {
   "cell_type": "code",
   "execution_count": 143,
   "metadata": {},
   "outputs": [],
   "source": [
    "import numpy as np\n",
    "from sklearn.decomposition import PCA\n",
    "X = np.array(df.iloc[:,:14]).T#data_matrix\n",
    "pca = PCA(n_components=14)\n",
    "pca.fit(X)\n",
    "PCX = pca.components_"
   ]
  },
  {
   "cell_type": "code",
   "execution_count": 166,
   "metadata": {},
   "outputs": [
    {
     "name": "stdout",
     "output_type": "stream",
     "text": [
      "[[-3.91284504e-04  2.11139044e-04  1.14796563e-04 ... -4.02426406e-02\n",
      "  -2.62402057e-02 -1.87801377e-01]\n",
      " [-3.83143505e-04  2.08030190e-04  1.01420396e-04 ... -3.61266809e-02\n",
      "  -2.86854051e-02  5.16308559e-01]\n",
      " [-3.74384880e-04  2.14867754e-04  1.10781731e-04 ... -3.42258261e-02\n",
      "  -2.43381209e-02  1.92214899e-02]\n",
      " ...\n",
      " [-3.96130204e-04  2.17552982e-04  4.20054181e-05 ... -1.33774602e-02\n",
      "  -3.48528640e-03  2.78139962e-04]\n",
      " [-3.91477257e-04  2.22144348e-04  5.18850384e-05 ... -1.44503161e-02\n",
      "  -3.64933850e-04 -5.02119606e-04]\n",
      " [-3.93708297e-04  2.12918743e-04  5.34263216e-05 ... -1.75038132e-02\n",
      "  -4.05571325e-03  5.28418112e-04]]\n"
     ]
    }
   ],
   "source": [
    "PCXt = PCX.T\n",
    "print(PCXt)"
   ]
  },
  {
   "cell_type": "code",
   "execution_count": 147,
   "metadata": {},
   "outputs": [
    {
     "data": {
      "text/plain": [
       "14980"
      ]
     },
     "execution_count": 147,
     "metadata": {},
     "output_type": "execute_result"
    }
   ],
   "source": [
    "len(PCXt[:,5])"
   ]
  },
  {
   "cell_type": "code",
   "execution_count": 141,
   "metadata": {},
   "outputs": [
    {
     "data": {
      "text/plain": [
       "14"
      ]
     },
     "execution_count": 141,
     "metadata": {},
     "output_type": "execute_result"
    }
   ],
   "source": [
    "len(x)"
   ]
  },
  {
   "cell_type": "code",
   "execution_count": 1,
   "metadata": {},
   "outputs": [],
   "source": [
    "from minisom import MiniSom"
   ]
  },
  {
   "cell_type": "code",
   "execution_count": 2,
   "metadata": {},
   "outputs": [],
   "source": [
    "import matplotlib.pyplot as plt\n",
    "%matplotlib inline"
   ]
  },
  {
   "cell_type": "code",
   "execution_count": 120,
   "metadata": {},
   "outputs": [],
   "source": [
    "data = PCX[[1,3]].T"
   ]
  },
  {
   "cell_type": "code",
   "execution_count": 121,
   "metadata": {},
   "outputs": [
    {
     "data": {
      "text/plain": [
       "(14980, 2)"
      ]
     },
     "execution_count": 121,
     "metadata": {},
     "output_type": "execute_result"
    }
   ],
   "source": [
    "data.shape"
   ]
  },
  {
   "cell_type": "code",
   "execution_count": 125,
   "metadata": {},
   "outputs": [],
   "source": [
    "data = np.array(df.iloc[:,:14])"
   ]
  },
  {
   "cell_type": "code",
   "execution_count": 126,
   "metadata": {},
   "outputs": [
    {
     "data": {
      "text/plain": [
       "(14980, 14)"
      ]
     },
     "execution_count": 126,
     "metadata": {},
     "output_type": "execute_result"
    }
   ],
   "source": [
    "data.shape"
   ]
  },
  {
   "cell_type": "code",
   "execution_count": 169,
   "metadata": {},
   "outputs": [],
   "source": [
    "data = 10*data_matrix"
   ]
  },
  {
   "cell_type": "markdown",
   "metadata": {},
   "source": [
    "# Train SOM"
   ]
  },
  {
   "cell_type": "code",
   "execution_count": 170,
   "metadata": {},
   "outputs": [
    {
     "data": {
      "image/png": "[encoded data removed]",
      "text/plain": [
       "<Figure size 640x480 with 1 Axes>"
      ]
     },
     "metadata": {},
     "output_type": "display_data"
    }
   ],
   "source": [
    "# I use linear som topography\n",
    "som_shape = (1, 8)\n",
    "\n",
    "som = MiniSom(som_shape[0], som_shape[1], data.shape[1], sigma=0.5, learning_rate=0.5)\n",
    "\n",
    "max_iter = 1000\n",
    "q_error = []\n",
    "t_error = []\n",
    "\n",
    "for i in range(max_iter):\n",
    "    rand_i = np.random.randint(len(data))\n",
    "    som.update(data[rand_i], som.winner(data[rand_i]), i, max_iter)\n",
    "    q_error.append(som.quantization_error(data))\n",
    "    t_error.append(som.topographic_error(data))\n",
    "\n",
    "plt.plot(np.arange(max_iter), q_error, label='quantization error')\n",
    "plt.plot(np.arange(max_iter), t_error, label='topographic error')\n",
    "plt.ylabel('Quantization error')\n",
    "plt.xlabel('Iteration index')\n",
    "plt.legend()\n",
    "plt.show()"
   ]
  },
  {
   "cell_type": "code",
   "execution_count": 128,
   "metadata": {},
   "outputs": [],
   "source": [
    "# each neuron represents a cluster\n",
    "winner_coordinates = np.array([som.winner(x) for x in data]).T"
   ]
  },
  {
   "cell_type": "code",
   "execution_count": 130,
   "metadata": {},
   "outputs": [
    {
     "data": {
      "text/plain": [
       "(2, 14980)"
      ]
     },
     "execution_count": 130,
     "metadata": {},
     "output_type": "execute_result"
    }
   ],
   "source": [
    "winner_coordinates.shape"
   ]
  },
  {
   "cell_type": "code",
   "execution_count": 132,
   "metadata": {},
   "outputs": [
    {
     "data": {
      "text/plain": [
       "14980"
      ]
     },
     "execution_count": 132,
     "metadata": {},
     "output_type": "execute_result"
    }
   ],
   "source": [
    "len(np.ravel_multi_index(winner_coordinates, som_shape))"
   ]
  },
  {
   "cell_type": "code",
   "execution_count": 174,
   "metadata": {},
   "outputs": [
    {
     "data": {
      "text/plain": [
       "<matplotlib.legend.Legend at 0x1f1847b6580>"
      ]
     },
     "execution_count": 174,
     "metadata": {},
     "output_type": "execute_result"
    },
    {
     "data": {
      "image/png": "[encoded data removed]",
      "text/plain": [
       "<Figure size 1000x800 with 1 Axes>"
      ]
     },
     "metadata": {},
     "output_type": "display_data"
    }
   ],
   "source": [
    "# each neuron represents a cluster\n",
    "winner_coordinates = np.array([som.winner(x) for x in data]).T\n",
    "\n",
    "# with np.ravel_multi_index we convert the bidimensional\n",
    "# coordinates to a monodimensional index\n",
    "cluster_index = np.ravel_multi_index(winner_coordinates, som_shape)\n",
    "\n",
    "# Plotting the clusters \n",
    "plt.figure(figsize=(10,8))\n",
    "\n",
    "for c in np.unique(cluster_index):\n",
    "    plt.scatter(PCXt[cluster_index == c, 0],\n",
    "                PCXt[cluster_index == c, 3], label='cluster='+str(c), alpha=.7)\n",
    "\n",
    "# Plotting centroids\n",
    "for centroid in som.get_weights():\n",
    "    plt.scatter(centroid[:, 0], centroid[:, 1], marker='x', \n",
    "                s=10, linewidths=20, color='k') # label='centroid'\n",
    "    \n",
    "plt.title(\"Clusters of Customers\")\n",
    "plt.xlabel(\"Annual Income (k$)\")\n",
    "plt.ylabel(\"Spending Score (1-100)\")\n",
    "plt.legend()"
   ]
  },
  {
   "cell_type": "code",
   "execution_count": 157,
   "metadata": {},
   "outputs": [
    {
     "name": "stdout",
     "output_type": "stream",
     "text": [
      "[3 4]\n"
     ]
    }
   ],
   "source": [
    "print(np.unique(cluster_index))"
   ]
  },
  {
   "cell_type": "code",
   "execution_count": 159,
   "metadata": {},
   "outputs": [
    {
     "data": {
      "text/plain": [
       "14980"
      ]
     },
     "execution_count": 159,
     "metadata": {},
     "output_type": "execute_result"
    }
   ],
   "source": [
    "len(cluster_index)"
   ]
  },
  {
   "cell_type": "code",
   "execution_count": 175,
   "metadata": {},
   "outputs": [
    {
     "data": {
      "text/plain": [
       "(1, 8, 14)"
      ]
     },
     "execution_count": 175,
     "metadata": {},
     "output_type": "execute_result"
    }
   ],
   "source": [
    "som.get_weights().shape"
   ]
  }
 ],
 "metadata": {
  "kernelspec": {
   "display_name": "Python 3.9.12",
   "language": "python",
   "name": "python3"
  },
  "language_info": {
   "codemirror_mode": {
    "name": "ipython",
    "version": 3
   },
   "file_extension": ".py",
   "mimetype": "text/x-python",
   "name": "python",
   "nbconvert_exporter": "python",
   "pygments_lexer": "ipython3",
   "version": "3.9.12"
  },
  "orig_nbformat": 4,
  "vscode": {
   "interpreter": {
    "hash": "371e0b3ce955ba34212fc8bf93604776f9bda6a596bbca8980dedc0af53f6fd3"
   }
  }
 },
 "nbformat": 4,
 "nbformat_minor": 2
}
